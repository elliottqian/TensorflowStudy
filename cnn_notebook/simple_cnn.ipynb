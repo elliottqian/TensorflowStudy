{
 "cells": [
  {
   "cell_type": "code",
   "execution_count": 1,
   "metadata": {
    "ExecuteTime": {
     "end_time": "2018-06-10T02:44:06.068980Z",
     "start_time": "2018-06-10T02:44:03.335645Z"
    },
    "extensions": {
     "jupyter_dashboards": {
      "version": 1.0,
      "views": {
       "grid_default": {
        "col": 0.0,
        "height": 6.0,
        "hidden": false,
        "row": 0.0,
        "width": 4.0
       },
       "report_default": {
        "hidden": false
       }
      }
     }
    }
   },
   "outputs": [
    {
     "name": "stdout",
     "output_type": "stream",
     "text": [
      "Extracting ../cnn/MNIST_data/train-images-idx3-ubyte.gz\n",
      "Extracting ../cnn/MNIST_data/train-labels-idx1-ubyte.gz\n",
      "Extracting ../cnn/MNIST_data/t10k-images-idx3-ubyte.gz\n",
      "Extracting ../cnn/MNIST_data/t10k-labels-idx1-ubyte.gz\n"
     ]
    }
   ],
   "source": [
    "import tensorflow as tf\n",
    "from tensorflow.examples.tutorials.mnist import input_data\n",
    "mnist = input_data.read_data_sets(\"../cnn/MNIST_data/\", one_hot=True)"
   ]
  },
  {
   "cell_type": "code",
   "execution_count": 2,
   "metadata": {
    "ExecuteTime": {
     "end_time": "2018-06-10T02:44:07.614322Z",
     "start_time": "2018-06-10T02:44:07.486305Z"
    },
    "extensions": {
     "jupyter_dashboards": {
      "version": 1.0,
      "views": {
       "grid_default": {
        "hidden": true
       },
       "report_default": {
        "hidden": true
       }
      }
     }
    }
   },
   "outputs": [],
   "source": [
    "batch_data = mnist.train.next_batch(batch_size=10)"
   ]
  },
  {
   "cell_type": "code",
   "execution_count": 3,
   "metadata": {
    "ExecuteTime": {
     "end_time": "2018-06-10T02:44:08.211881Z",
     "start_time": "2018-06-10T02:44:08.207414Z"
    },
    "extensions": {
     "jupyter_dashboards": {
      "version": 1.0,
      "views": {
       "grid_default": {
        "hidden": true
       },
       "report_default": {
        "hidden": true
       }
      }
     }
    }
   },
   "outputs": [],
   "source": [
    "class SimpleCnn(object):\n",
    "    pass"
   ]
  },
  {
   "cell_type": "code",
   "execution_count": 4,
   "metadata": {
    "ExecuteTime": {
     "end_time": "2018-06-10T02:44:11.266342Z",
     "start_time": "2018-06-10T02:44:09.144738Z"
    },
    "extensions": {
     "jupyter_dashboards": {
      "version": 1.0,
      "views": {
       "grid_default": {
        "hidden": true
       },
       "report_default": {
        "hidden": true
       }
      }
     }
    }
   },
   "outputs": [],
   "source": [
    "sess = tf.Session(config=tf.ConfigProto(device_count={'cpu':0}))"
   ]
  },
  {
   "cell_type": "markdown",
   "metadata": {
    "ExecuteTime": {
     "end_time": "2018-06-09T12:30:31.511454Z",
     "start_time": "2018-06-09T12:30:31.499421Z"
    },
    "extensions": {
     "jupyter_dashboards": {
      "version": 1.0,
      "views": {
       "grid_default": {
        "col": 4.0,
        "height": 4.0,
        "hidden": false,
        "row": 0.0,
        "width": 4.0
       },
       "report_default": {
        "hidden": false
       }
      }
     }
    }
   },
   "source": [
    "## 前向传播"
   ]
  },
  {
   "cell_type": "code",
   "execution_count": 5,
   "metadata": {
    "ExecuteTime": {
     "end_time": "2018-06-10T02:44:17.580789Z",
     "start_time": "2018-06-10T02:44:17.572358Z"
    },
    "extensions": {
     "jupyter_dashboards": {
      "version": 1.0,
      "views": {
       "grid_default": {
        "hidden": true
       },
       "report_default": {
        "hidden": true
       }
      }
     }
    }
   },
   "outputs": [],
   "source": [
    "X = tf.placeholder(dtype=tf.float32, shape=[None, 784])\n",
    "y = tf.placeholder(dtype=tf.float32, shape=[None, 10])"
   ]
  },
  {
   "cell_type": "code",
   "execution_count": 6,
   "metadata": {
    "ExecuteTime": {
     "end_time": "2018-06-10T02:44:18.100611Z",
     "start_time": "2018-06-10T02:44:18.092180Z"
    },
    "extensions": {
     "jupyter_dashboards": {
      "version": 1.0,
      "views": {
       "grid_default": {
        "hidden": true
       },
       "report_default": {
        "hidden": true
       }
      }
     }
    }
   },
   "outputs": [],
   "source": [
    "new_X = tf.reshape(X, shape=(-1, 28, 28, 1))"
   ]
  },
  {
   "cell_type": "code",
   "execution_count": 7,
   "metadata": {
    "ExecuteTime": {
     "end_time": "2018-06-10T02:44:18.642607Z",
     "start_time": "2018-06-10T02:44:18.592513Z"
    },
    "extensions": {
     "jupyter_dashboards": {
      "version": 1.0,
      "views": {
       "grid_default": {
        "hidden": true
       },
       "report_default": {
        "hidden": true
       }
      }
     }
    }
   },
   "outputs": [],
   "source": [
    "filter_num = 2\n",
    "filter_size = [2, 2]\n",
    "conv_layer_1 = tf.layers.conv2d(new_X, filter_num, filter_size, activation=tf.nn.relu)"
   ]
  },
  {
   "cell_type": "code",
   "execution_count": 8,
   "metadata": {
    "ExecuteTime": {
     "end_time": "2018-06-10T02:44:19.092403Z",
     "start_time": "2018-06-10T02:44:19.079008Z"
    },
    "extensions": {
     "jupyter_dashboards": {
      "version": 1.0,
      "views": {
       "grid_default": {
        "col": 8.0,
        "height": 4.0,
        "hidden": false,
        "row": 0.0,
        "width": 4.0
       },
       "report_default": {
        "hidden": false
       }
      }
     }
    }
   },
   "outputs": [
    {
     "data": {
      "text/plain": [
       "TensorShape([Dimension(None), Dimension(25), Dimension(25), Dimension(2)])"
      ]
     },
     "execution_count": 8,
     "metadata": {},
     "output_type": "execute_result"
    }
   ],
   "source": [
    "pool_size = [3, 3]\n",
    "strides = [1, 1]\n",
    "pool_layer_1 = tf.layers.max_pooling2d(conv_layer_1, pool_size, strides)\n",
    "pool_layer_1.shape"
   ]
  },
  {
   "cell_type": "code",
   "execution_count": 9,
   "metadata": {
    "ExecuteTime": {
     "end_time": "2018-06-10T02:44:20.809547Z",
     "start_time": "2018-06-10T02:44:20.786271Z"
    },
    "extensions": {
     "jupyter_dashboards": {
      "version": 1.0,
      "views": {
       "grid_default": {
        "col": 4.0,
        "height": 4.0,
        "hidden": false,
        "row": 4.0,
        "width": 4.0
       },
       "report_default": {
        "hidden": false
       }
      }
     }
    }
   },
   "outputs": [
    {
     "data": {
      "text/plain": [
       "TensorShape([Dimension(None), Dimension(1250)])"
      ]
     },
     "execution_count": 9,
     "metadata": {},
     "output_type": "execute_result"
    }
   ],
   "source": [
    "dense_layer_1 = tf.layers.flatten(pool_layer_1)\n",
    "dense_layer_1.shape"
   ]
  },
  {
   "cell_type": "code",
   "execution_count": 10,
   "metadata": {
    "ExecuteTime": {
     "end_time": "2018-06-10T02:44:22.032278Z",
     "start_time": "2018-06-10T02:44:21.987626Z"
    },
    "extensions": {
     "jupyter_dashboards": {
      "version": 1.0,
      "views": {
       "grid_default": {
        "col": 8.0,
        "height": 4.0,
        "hidden": false,
        "row": 4.0,
        "width": 4.0
       },
       "report_default": {
        "hidden": false
       }
      }
     }
    }
   },
   "outputs": [
    {
     "data": {
      "text/plain": [
       "TensorShape([Dimension(None), Dimension(300)])"
      ]
     },
     "execution_count": 10,
     "metadata": {},
     "output_type": "execute_result"
    }
   ],
   "source": [
    "dense_layer_2 = tf.layers.dense(dense_layer_1, 300, activation=tf.nn.relu)\n",
    "dense_layer_2.shape"
   ]
  },
  {
   "cell_type": "code",
   "execution_count": 11,
   "metadata": {
    "ExecuteTime": {
     "end_time": "2018-06-10T02:44:30.060328Z",
     "start_time": "2018-06-10T02:44:30.021640Z"
    },
    "extensions": {
     "jupyter_dashboards": {
      "version": 1.0,
      "views": {
       "grid_default": {
        "col": 0.0,
        "height": 4.0,
        "hidden": false,
        "row": 6.0,
        "width": 4.0
       },
       "report_default": {
        "hidden": false
       }
      }
     }
    }
   },
   "outputs": [
    {
     "data": {
      "text/plain": [
       "TensorShape([Dimension(None), Dimension(10)])"
      ]
     },
     "execution_count": 11,
     "metadata": {},
     "output_type": "execute_result"
    }
   ],
   "source": [
    "dense_layer_3 = tf.layers.dense(dense_layer_2, 10)\n",
    "dense_layer_3.shape"
   ]
  },
  {
   "cell_type": "code",
   "execution_count": 12,
   "metadata": {
    "ExecuteTime": {
     "end_time": "2018-06-10T02:44:32.825756Z",
     "start_time": "2018-06-10T02:44:32.691835Z"
    },
    "extensions": {
     "jupyter_dashboards": {
      "version": 1.0,
      "views": {
       "grid_default": {
        "hidden": true
       },
       "report_default": {
        "hidden": true
       }
      }
     }
    }
   },
   "outputs": [],
   "source": [
    "init = tf.global_variables_initializer()\n",
    "sess.run(init)"
   ]
  },
  {
   "cell_type": "code",
   "execution_count": 13,
   "metadata": {
    "ExecuteTime": {
     "end_time": "2018-06-10T02:44:34.827320Z",
     "start_time": "2018-06-10T02:44:33.656672Z"
    },
    "extensions": {
     "jupyter_dashboards": {
      "version": 1.0,
      "views": {
       "grid_default": {
        "col": 4.0,
        "height": 6.0,
        "hidden": false,
        "row": 8.0,
        "width": 4.0
       },
       "report_default": {
        "hidden": false
       }
      }
     }
    }
   },
   "outputs": [
    {
     "data": {
      "text/plain": [
       "array([[ 0.03848676, -0.05132953,  0.07005227,  0.0010495 , -0.02480341,\n",
       "        -0.0331322 , -0.04311711, -0.03262414,  0.05422526, -0.00223096],\n",
       "       [ 0.03419515, -0.06222498,  0.01751604, -0.0051253 , -0.04862711,\n",
       "        -0.03931988, -0.06902321, -0.01610937,  0.04811184, -0.01437413]], dtype=float32)"
      ]
     },
     "execution_count": 13,
     "metadata": {},
     "output_type": "execute_result"
    }
   ],
   "source": [
    "result = sess.run(dense_layer_3, feed_dict={X: batch_data[0]})\n",
    "result[0: 2]"
   ]
  },
  {
   "cell_type": "markdown",
   "metadata": {
    "ExecuteTime": {
     "end_time": "2018-06-09T16:26:55.417032Z",
     "start_time": "2018-06-09T16:26:55.412110Z"
    },
    "extensions": {
     "jupyter_dashboards": {
      "version": 1.0,
      "views": {
       "grid_default": {
        "col": 8.0,
        "height": 4.0,
        "hidden": false,
        "row": 8.0,
        "width": 4.0
       },
       "report_default": {
        "hidden": false
       }
      }
     }
    }
   },
   "source": [
    "## Loss "
   ]
  },
  {
   "cell_type": "code",
   "execution_count": 14,
   "metadata": {
    "ExecuteTime": {
     "end_time": "2018-06-10T02:44:40.774088Z",
     "start_time": "2018-06-10T02:44:40.768631Z"
    },
    "extensions": {
     "jupyter_dashboards": {
      "version": 1.0,
      "views": {
       "grid_default": {
        "col": 0.0,
        "height": 4.0,
        "hidden": false,
        "row": 10.0,
        "width": 4.0
       },
       "report_default": {
        "hidden": false
       }
      }
     }
    }
   },
   "outputs": [
    {
     "name": "stdout",
     "output_type": "stream",
     "text": [
      "<bound method Tensor.get_shape of <tf.Tensor 'dense_1/BiasAdd:0' shape=(?, 10) dtype=float32>>\n",
      "<bound method Tensor.get_shape of <tf.Tensor 'Placeholder_1:0' shape=(?, 10) dtype=float32>>\n"
     ]
    }
   ],
   "source": [
    "print(dense_layer_3.get_shape)\n",
    "print(y.get_shape)"
   ]
  },
  {
   "cell_type": "code",
   "execution_count": 15,
   "metadata": {
    "ExecuteTime": {
     "end_time": "2018-06-10T02:44:44.311123Z",
     "start_time": "2018-06-10T02:44:43.968473Z"
    },
    "extensions": {
     "jupyter_dashboards": {
      "version": 1.0,
      "views": {
       "grid_default": {
        "hidden": true
       },
       "report_default": {
        "hidden": true
       }
      }
     }
    }
   },
   "outputs": [
    {
     "name": "stdout",
     "output_type": "stream",
     "text": [
      "WARNING:tensorflow:From C:\\Users\\ElliottQian\\Miniconda3\\lib\\site-packages\\tensorflow\\python\\ops\\losses\\losses_impl.py:731: softmax_cross_entropy_with_logits (from tensorflow.python.ops.nn_ops) is deprecated and will be removed in a future version.\n",
      "Instructions for updating:\n",
      "\n",
      "Future major versions of TensorFlow will allow gradients to flow\n",
      "into the labels input on backprop by default.\n",
      "\n",
      "See tf.nn.softmax_cross_entropy_with_logits_v2.\n",
      "\n"
     ]
    }
   ],
   "source": [
    "loss = tf.losses.softmax_cross_entropy(y, dense_layer_3)"
   ]
  },
  {
   "cell_type": "code",
   "execution_count": 16,
   "metadata": {
    "ExecuteTime": {
     "end_time": "2018-06-10T02:44:44.405113Z",
     "start_time": "2018-06-10T02:44:44.331726Z"
    },
    "extensions": {
     "jupyter_dashboards": {
      "version": 1.0,
      "views": {
       "grid_default": {
        "col": 8.0,
        "height": 4.0,
        "hidden": false,
        "row": 12.0,
        "width": 4.0
       },
       "report_default": {
        "hidden": false
       }
      }
     }
    }
   },
   "outputs": [
    {
     "data": {
      "text/plain": [
       "2.3154128"
      ]
     },
     "execution_count": 16,
     "metadata": {},
     "output_type": "execute_result"
    }
   ],
   "source": [
    " sess.run(loss, feed_dict={X: batch_data[0], y: batch_data[1]})"
   ]
  },
  {
   "cell_type": "code",
   "execution_count": 20,
   "metadata": {
    "ExecuteTime": {
     "end_time": "2018-06-10T02:46:37.903865Z",
     "start_time": "2018-06-10T02:46:37.893911Z"
    },
    "extensions": {
     "jupyter_dashboards": {
      "version": 1.0,
      "views": {
       "grid_default": {
        "hidden": true
       },
       "report_default": {
        "hidden": true
       }
      }
     }
    }
   },
   "outputs": [],
   "source": [
    "self_loss = -  y * tf.log(tf.nn.softmax(dense_layer_3))"
   ]
  },
  {
   "cell_type": "code",
   "execution_count": 21,
   "metadata": {
    "ExecuteTime": {
     "end_time": "2018-06-10T02:46:38.725594Z",
     "start_time": "2018-06-10T02:46:38.421454Z"
    },
    "extensions": {
     "jupyter_dashboards": {
      "version": 1.0,
      "views": {
       "grid_default": {
        "col": 0.0,
        "height": 5.0,
        "hidden": false,
        "row": 14.0,
        "width": 4.0
       },
       "report_default": {
        "hidden": false
       }
      }
     }
    }
   },
   "outputs": [
    {
     "data": {
      "text/plain": [
       "array([[ 0.        ,  0.        ,  0.        ,  0.        ,  0.        ,\n",
       "         0.        ,  0.        ,  0.        ,  0.        ,  2.30330729],\n",
       "       [ 0.        ,  0.        ,  0.        ,  0.        ,  0.        ,\n",
       "         0.        ,  0.        ,  0.        ,  0.        ,  2.30218434]], dtype=float32)"
      ]
     },
     "execution_count": 21,
     "metadata": {},
     "output_type": "execute_result"
    }
   ],
   "source": [
    " sess.run(self_loss, feed_dict={X: batch_data[0], y: batch_data[1]})[0:2]"
   ]
  },
  {
   "cell_type": "code",
   "execution_count": 22,
   "metadata": {
    "ExecuteTime": {
     "end_time": "2018-06-10T02:46:39.889219Z",
     "start_time": "2018-06-10T02:46:39.850527Z"
    },
    "extensions": {
     "jupyter_dashboards": {
      "version": 1.0,
      "views": {
       "grid_default": {
        "col": 4.0,
        "height": 4.0,
        "hidden": false,
        "row": 14.0,
        "width": 4.0
       },
       "report_default": {
        "hidden": false
       }
      }
     }
    }
   },
   "outputs": [
    {
     "data": {
      "text/plain": [
       "2.3154128"
      ]
     },
     "execution_count": 22,
     "metadata": {},
     "output_type": "execute_result"
    }
   ],
   "source": [
    "loss_sum = tf.reduce_mean(tf.reduce_sum(self_loss, axis=1))\n",
    "sess.run(loss_sum, feed_dict={X: batch_data[0], y: batch_data[1]})"
   ]
  },
  {
   "cell_type": "markdown",
   "metadata": {
    "extensions": {
     "jupyter_dashboards": {
      "version": 1.0,
      "views": {
       "grid_default": {
        "col": 8.0,
        "height": 4.0,
        "hidden": false,
        "row": 16.0,
        "width": 4.0
       },
       "report_default": {
        "hidden": false
       }
      }
     }
    }
   },
   "source": [
    "##  Train"
   ]
  },
  {
   "cell_type": "code",
   "execution_count": 23,
   "metadata": {
    "ExecuteTime": {
     "end_time": "2018-06-10T02:47:31.629932Z",
     "start_time": "2018-06-10T02:47:31.625467Z"
    },
    "extensions": {
     "jupyter_dashboards": {
      "version": 1.0,
      "views": {
       "grid_default": {
        "hidden": true
       },
       "report_default": {
        "hidden": true
       }
      }
     }
    }
   },
   "outputs": [],
   "source": [
    "optimozer = tf.train.GradientDescentOptimizer(learning_rate=0.5)"
   ]
  },
  {
   "cell_type": "code",
   "execution_count": 24,
   "metadata": {
    "ExecuteTime": {
     "end_time": "2018-06-10T02:47:32.237373Z",
     "start_time": "2018-06-10T02:47:32.067685Z"
    },
    "extensions": {
     "jupyter_dashboards": {
      "version": 1.0,
      "views": {
       "grid_default": {
        "hidden": true
       },
       "report_default": {
        "hidden": true
       }
      }
     }
    }
   },
   "outputs": [],
   "source": [
    "trainer = optimozer.minimize(loss)"
   ]
  },
  {
   "cell_type": "code",
   "execution_count": 28,
   "metadata": {
    "ExecuteTime": {
     "end_time": "2018-06-10T02:49:20.505456Z",
     "start_time": "2018-06-10T02:49:20.498510Z"
    },
    "extensions": {
     "jupyter_dashboards": {
      "version": 1.0,
      "views": {
       "grid_default": {
        "col": 4.0,
        "height": 57.0,
        "hidden": false,
        "row": 18.0,
        "width": 4.0
       },
       "report_default": {
        "hidden": false
       }
      }
     }
    }
   },
   "outputs": [
    {
     "ename": "SyntaxError",
     "evalue": "invalid syntax (<ipython-input-28-438209fe6ee3>, line 3)",
     "traceback": [
      "\u001b[1;36m  File \u001b[1;32m\"<ipython-input-28-438209fe6ee3>\"\u001b[1;36m, line \u001b[1;32m3\u001b[0m\n\u001b[1;33m    if (i % 10 == 0)\u001b[0m\n\u001b[1;37m                    ^\u001b[0m\n\u001b[1;31mSyntaxError\u001b[0m\u001b[1;31m:\u001b[0m invalid syntax\n"
     ],
     "output_type": "error"
    }
   ],
   "source": [
    "for i in range(100):\n",
    "    sess.run(trainer, feed_dict={X: batch_data[0], y: batch_data[1]})\n",
    "    if (i % 10 == 0)\n",
    "        print(sess.run(loss, feed_dict={X: batch_data[0], y: batch_data[1]}))"
   ]
  },
  {
   "cell_type": "code",
   "execution_count": 124,
   "metadata": {
    "ExecuteTime": {
     "end_time": "2018-06-09T17:10:39.369181Z",
     "start_time": "2018-06-09T17:10:39.256093Z"
    },
    "extensions": {
     "jupyter_dashboards": {
      "version": 1.0,
      "views": {
       "grid_default": {
        "col": 0.0,
        "height": 4.0,
        "hidden": false,
        "row": 19.0,
        "width": 4.0
       },
       "report_default": {
        "hidden": false
       }
      }
     }
    }
   },
   "outputs": [
    {
     "name": "stdout",
     "output_type": "stream",
     "text": [
      "[3 6 7 0 4 3 0 1 0 5]\n",
      "[3 6 7 0 4 3 0 1 0 5]\n"
     ]
    }
   ],
   "source": [
    "predict = tf.argmax(dense_layer_3, axis=1)\n",
    "print(sess.run(predict, feed_dict={X: batch_data[0], y: batch_data[1]}))\n",
    "print(sess.run(tf.argmax(y, axis=1), feed_dict={X: batch_data[0], y: batch_data[1]}))"
   ]
  },
  {
   "cell_type": "code",
   "execution_count": 36,
   "metadata": {
    "ExecuteTime": {
     "end_time": "2018-06-09T12:48:16.371539Z",
     "start_time": "2018-06-09T12:48:16.357379Z"
    },
    "extensions": {
     "jupyter_dashboards": {
      "version": 1.0,
      "views": {
       "grid_default": {
        "col": 8.0,
        "height": 4.0,
        "hidden": false,
        "row": 20.0,
        "width": 4.0
       },
       "report_default": {
        "hidden": false
       }
      }
     }
    }
   },
   "outputs": [
    {
     "data": {
      "text/plain": [
       "<bound method Tensor.get_shape of <tf.Tensor 'Const_12:0' shape=(1, 3, 3, 1) dtype=float32>>"
      ]
     },
     "execution_count": 36,
     "metadata": {},
     "output_type": "execute_result"
    }
   ],
   "source": [
    "test_data = tf.constant([[[[1], [2], [3]], [[4], [5], [6]], [[3], [2], [1]]]], dtype=tf.float32)\n",
    "test_data.get_shape"
   ]
  },
  {
   "cell_type": "code",
   "execution_count": null,
   "metadata": {
    "extensions": {
     "jupyter_dashboards": {
      "version": 1.0,
      "views": {
       "grid_default": {
        "hidden": true
       },
       "report_default": {
        "hidden": true
       }
      }
     }
    }
   },
   "outputs": [],
   "source": [
    "# [filter_height, filter_width, in_channels, out_channels]\n",
    "# [2, 2, 1, 2]\n",
    "kernel_initializer = tf.Variable()"
   ]
  },
  {
   "cell_type": "code",
   "execution_count": 37,
   "metadata": {
    "ExecuteTime": {
     "end_time": "2018-06-09T12:52:20.992604Z",
     "start_time": "2018-06-09T12:52:20.926635Z"
    },
    "extensions": {
     "jupyter_dashboards": {
      "version": 1.0,
      "views": {
       "grid_default": {
        "hidden": true
       },
       "report_default": {
        "hidden": true
       }
      }
     }
    }
   },
   "outputs": [],
   "source": [
    "layer_1 = tf.layers.conv2d(test_data, 2, [2, 2], activation=tf.nn.relu)"
   ]
  },
  {
   "cell_type": "code",
   "execution_count": 38,
   "metadata": {
    "ExecuteTime": {
     "end_time": "2018-06-09T12:52:22.573007Z",
     "start_time": "2018-06-09T12:52:22.195664Z"
    },
    "extensions": {
     "jupyter_dashboards": {
      "version": 1.0,
      "views": {
       "grid_default": {
        "hidden": true
       },
       "report_default": {
        "hidden": true
       }
      }
     }
    }
   },
   "outputs": [],
   "source": [
    "init = tf.global_variables_initializer()\n",
    "sess.run(init)"
   ]
  },
  {
   "cell_type": "code",
   "execution_count": 39,
   "metadata": {
    "ExecuteTime": {
     "end_time": "2018-06-09T12:52:23.140104Z",
     "start_time": "2018-06-09T12:52:23.117320Z"
    },
    "extensions": {
     "jupyter_dashboards": {
      "version": 1.0,
      "views": {
       "grid_default": {
        "col": 0.0,
        "height": 4.0,
        "hidden": false,
        "row": 23.0,
        "width": 4.0
       },
       "report_default": {
        "hidden": false
       }
      }
     }
    }
   },
   "outputs": [
    {
     "data": {
      "text/plain": [
       "array([[[[ 0.        ,  1.1882062 ],\n",
       "         [ 0.        ,  2.10733032]],\n",
       "\n",
       "        [[ 0.        ,  3.87725353],\n",
       "         [ 0.        ,  4.60345984]]]], dtype=float32)"
      ]
     },
     "execution_count": 39,
     "metadata": {},
     "output_type": "execute_result"
    }
   ],
   "source": [
    "sess.run(layer_1)"
   ]
  },
  {
   "cell_type": "code",
   "execution_count": null,
   "metadata": {
    "extensions": {
     "jupyter_dashboards": {
      "version": 1.0,
      "views": {
       "grid_default": {
        "hidden": true
       },
       "report_default": {
        "hidden": true
       }
      }
     }
    }
   },
   "outputs": [],
   "source": [
    "layer_1 = tf.layers.conv2d(test_data, 2, [2, 2], activation=tf.nn.relu)"
   ]
  }
 ],
 "metadata": {
  "extensions": {
   "jupyter_dashboards": {
    "activeView": "report_default",
    "version": 1.0,
    "views": {
     "grid_default": {
      "cellMargin": 10.0,
      "defaultCellHeight": 20.0,
      "maxColumns": 12.0,
      "name": "grid",
      "type": "grid"
     },
     "report_default": {
      "name": "report",
      "type": "report"
     }
    }
   }
  },
  "kernelspec": {
   "display_name": "Python 3",
   "language": "python",
   "name": "python3"
  },
  "language_info": {
   "codemirror_mode": {
    "name": "ipython",
    "version": 3
   },
   "file_extension": ".py",
   "mimetype": "text/x-python",
   "name": "python",
   "nbconvert_exporter": "python",
   "pygments_lexer": "ipython3",
   "version": "3.6.3"
  },
  "toc": {
   "nav_menu": {},
   "number_sections": true,
   "sideBar": true,
   "skip_h1_title": false,
   "title_cell": "Table of Contents",
   "title_sidebar": "Contents",
   "toc_cell": false,
   "toc_position": {
    "height": "calc(100% - 180px)",
    "left": "10px",
    "top": "150px",
    "width": "201px"
   },
   "toc_section_display": true,
   "toc_window_display": true
  }
 },
 "nbformat": 4,
 "nbformat_minor": 2
}
