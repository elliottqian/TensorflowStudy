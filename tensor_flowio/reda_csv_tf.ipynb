{
 "cells": [
  {
   "cell_type": "code",
   "execution_count": 2,
   "metadata": {
    "ExecuteTime": {
     "end_time": "2018-06-10T05:49:38.000634Z",
     "start_time": "2018-06-10T05:49:37.996170Z"
    }
   },
   "outputs": [],
   "source": [
    "import tensorflow as tf\n",
    "import numpy as np"
   ]
  },
  {
   "cell_type": "code",
   "execution_count": 3,
   "metadata": {
    "ExecuteTime": {
     "end_time": "2018-06-10T05:51:42.055204Z",
     "start_time": "2018-06-10T05:51:42.051258Z"
    }
   },
   "outputs": [],
   "source": [
    "file_name_string=\"test_csv.csv\""
   ]
  },
  {
   "cell_type": "code",
   "execution_count": 4,
   "metadata": {
    "ExecuteTime": {
     "end_time": "2018-06-10T05:51:49.075970Z",
     "start_time": "2018-06-10T05:51:49.039234Z"
    }
   },
   "outputs": [],
   "source": [
    "filename_queue = tf.train.string_input_producer([file_name_string])"
   ]
  },
  {
   "cell_type": "code",
   "execution_count": 6,
   "metadata": {
    "ExecuteTime": {
     "end_time": "2018-06-10T05:52:10.820423Z",
     "start_time": "2018-06-10T05:52:10.806534Z"
    }
   },
   "outputs": [],
   "source": [
    "reader = tf.TextLineReader()\n",
    "key,value = reader.read(filename_queue)"
   ]
  },
  {
   "cell_type": "code",
   "execution_count": 8,
   "metadata": {
    "ExecuteTime": {
     "end_time": "2018-06-10T05:52:44.080850Z",
     "start_time": "2018-06-10T05:52:44.069443Z"
    }
   },
   "outputs": [],
   "source": [
    "record_defaults = [[1.0], [1.0], [1.0]]\n",
    "id1, id2, result = tf.decode_csv(value, record_defaults=record_defaults)"
   ]
  },
  {
   "cell_type": "code",
   "execution_count": 11,
   "metadata": {
    "ExecuteTime": {
     "end_time": "2018-06-10T06:03:10.051551Z",
     "start_time": "2018-06-10T06:03:10.045102Z"
    }
   },
   "outputs": [],
   "source": [
    "# with tf.Session() as sess:\n",
    "#     coord = tf.train.Coordinator()\n",
    "#     threads = tf.train.start_queue_runners(coord=coord)\n",
    "#     is_second_read=0\n",
    "#     while True:\n",
    "#         id1_, id2_, result_, line_key = sess.run([id1, id2, result, key])\n",
    "#         if is_second_read==0 and line_key==line1_name:\n",
    "#             is_second_read=1\n",
    "#         elif is_second_read==1 and line_key==line1_name:\n",
    "#             break\n",
    "#     coord.request_stop()\n",
    "#     coord.join(threads)\n",
    "#     sess.close()"
   ]
  },
  {
   "cell_type": "code",
   "execution_count": 12,
   "metadata": {
    "ExecuteTime": {
     "end_time": "2018-06-10T06:03:12.297474Z",
     "start_time": "2018-06-10T06:03:12.286562Z"
    }
   },
   "outputs": [],
   "source": [
    "def make_tld(csv_filename, header_lines, delim, batch_size):\n",
    "    dataset = tf.data.TextLineDataset(filenames=csv_filename).skip(header_lines)\n",
    "\n",
    "    def parse_csv(line):\n",
    "        cols_types = [[]] * num_cols_  # all required\n",
    "        columns = tf.decode_csv(line, record_defaults=cols_types, field_delim=delim)\n",
    "        return tf.stack(columns)\n",
    "\n",
    "    dataset = dataset.map(parse_csv).batch(batch_size)\n",
    "    return dataset"
   ]
  },
  {
   "cell_type": "code",
   "execution_count": 13,
   "metadata": {
    "ExecuteTime": {
     "end_time": "2018-06-10T06:04:18.103307Z",
     "start_time": "2018-06-10T06:04:18.085986Z"
    }
   },
   "outputs": [],
   "source": [
    "def make_tsd(csv_filename, header_lines, delim, batch_size):\n",
    "    with open(csv_filename, \"r\") as f:\n",
    "        lines = f.readlines()\n",
    "\n",
    "    data_shape = (len(lines) - header_lines, len(lines[header_lines].strip().split(delim)))\n",
    "    data = np.empty(shape=data_shape, dtype=np.float32)\n",
    "\n",
    "    for idx, line in enumerate(lines[header_lines:]):\n",
    "        columns = [float(el) for el in line.strip().split(delim)]\n",
    "        data[idx, :] = np.array(columns)\n",
    "\n",
    "    dataset = tf.data.Dataset.from_tensor_slices(data).batch(batch_size)\n",
    "    return dataset"
   ]
  },
  {
   "cell_type": "code",
   "execution_count": null,
   "metadata": {},
   "outputs": [],
   "source": [
    "batch_size_ = 100\n",
    "\n",
    "tld_start = datetime.datetime.now()\n",
    "    tld = make_tld(csv_filename_, header_lines_, delim_, batch_size_)\n",
    "    tld_next = tld.make_one_shot_iterator().get_next()\n",
    "    with tf.Session() as tld_sess:\n",
    "        tld_sess.run(tf.global_variables_initializer())\n",
    "        try:\n",
    "            while True:\n",
    "                tld_out = tld_sess.run(tld_next)\n",
    "        except tf.errors.OutOfRangeError:\n",
    "            print(\"Done\")\n",
    "    tld_end = datetime.datetime.now()\n",
    "    print(\"TextLineDataset: \" + str(tld_end - tld_start))\n",
    "\n",
    "    tsd_start = datetime.datetime.now()\n",
    "    tsd = make_tsd(csv_filename_, header_lines_, delim_, batch_size_)\n",
    "    tsd_next = tsd.make_one_shot_iterator().get_next()\n",
    "    with tf.Session() as tsd_sess:\n",
    "        tsd_sess.run(tf.global_variables_initializer())\n",
    "        try:\n",
    "            while True:\n",
    "                tsd_out = tsd_sess.run(tsd_next)\n",
    "        except tf.errors.OutOfRangeError:\n",
    "            print(\"Done\")\n",
    "    tsd_end = datetime.datetime.now()\n",
    "    print(\"TensorSliceDataset: \" + str(tsd_end - tsd_start))"
   ]
  }
 ],
 "metadata": {
  "kernelspec": {
   "display_name": "Python 3",
   "language": "python",
   "name": "python3"
  },
  "language_info": {
   "codemirror_mode": {
    "name": "ipython",
    "version": 3
   },
   "file_extension": ".py",
   "mimetype": "text/x-python",
   "name": "python",
   "nbconvert_exporter": "python",
   "pygments_lexer": "ipython3",
   "version": "3.6.3"
  },
  "toc": {
   "nav_menu": {},
   "number_sections": true,
   "sideBar": true,
   "skip_h1_title": false,
   "title_cell": "Table of Contents",
   "title_sidebar": "Contents",
   "toc_cell": false,
   "toc_position": {},
   "toc_section_display": true,
   "toc_window_display": false
  }
 },
 "nbformat": 4,
 "nbformat_minor": 2
}
